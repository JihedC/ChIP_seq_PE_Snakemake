{
 "cells": [
  {
   "cell_type": "code",
   "execution_count": 1,
   "metadata": {},
   "outputs": [],
   "source": [
    "def get_fastq(wildcards):\n",
    "    return units.loc[(wildcards.sample), [\"fq1\", \"fq2\"]].dropna()\n",
    "\n",
    "def get_samples_per_treatment(input_df=\"units.tsv\",colsamples=\"sample\",coltreatment=\"condition\",treatment=\"control\"):\n",
    "    \"\"\"This function returns a list of samples that correspond to the same experimental condition\"\"\"\n",
    "    df = pd.read_table(input_df)\n",
    "    df = df.loc[df[coltreatment] == treatment]\n",
    "    filtered_samples = df[colsamples].tolist()\n",
    "    return filtered_samples\n"
   ]
  },
  {
   "cell_type": "code",
   "execution_count": 2,
   "metadata": {},
   "outputs": [],
   "source": [
    "import pandas as pd\n"
   ]
  },
  {
   "cell_type": "code",
   "execution_count": 9,
   "metadata": {},
   "outputs": [],
   "source": [
    "UNITS = \"units.tsv\"\n",
    "unit = pd.read_table(UNITS, dtype=str).set_index(\"sample\", drop=False)"
   ]
  },
  {
   "cell_type": "code",
   "execution_count": null,
   "metadata": {},
   "outputs": [],
   "source": []
  },
  {
   "cell_type": "code",
   "execution_count": 10,
   "metadata": {},
   "outputs": [
    {
     "data": {
      "text/html": [
       "<div>\n",
       "<style scoped>\n",
       "    .dataframe tbody tr th:only-of-type {\n",
       "        vertical-align: middle;\n",
       "    }\n",
       "\n",
       "    .dataframe tbody tr th {\n",
       "        vertical-align: top;\n",
       "    }\n",
       "\n",
       "    .dataframe thead th {\n",
       "        text-align: right;\n",
       "    }\n",
       "</style>\n",
       "<table border=\"1\" class=\"dataframe\">\n",
       "  <thead>\n",
       "    <tr style=\"text-align: right;\">\n",
       "      <th></th>\n",
       "      <th>sample</th>\n",
       "      <th>fq1</th>\n",
       "      <th>fq2</th>\n",
       "      <th>condition</th>\n",
       "    </tr>\n",
       "    <tr>\n",
       "      <th>sample</th>\n",
       "      <th></th>\n",
       "      <th></th>\n",
       "      <th></th>\n",
       "      <th></th>\n",
       "    </tr>\n",
       "  </thead>\n",
       "  <tbody>\n",
       "    <tr>\n",
       "      <th>ChIP1</th>\n",
       "      <td>ChIP1</td>\n",
       "      <td>example_datasets/JC_2_1.fq.gz</td>\n",
       "      <td>example_datasets/JC_2_2.fq.gz</td>\n",
       "      <td>treatment</td>\n",
       "    </tr>\n",
       "    <tr>\n",
       "      <th>ChIP2</th>\n",
       "      <td>ChIP2</td>\n",
       "      <td>example_datasets/JC_4_1_1.fq.gz</td>\n",
       "      <td>example_datasets/JC_4_1_2.fq.gz</td>\n",
       "      <td>treatment</td>\n",
       "    </tr>\n",
       "    <tr>\n",
       "      <th>ChIP3</th>\n",
       "      <td>ChIP3</td>\n",
       "      <td>example_datasets/JC_12_1.fq.gz</td>\n",
       "      <td>example_datasets/JC_12_2.fq.gz</td>\n",
       "      <td>treatment</td>\n",
       "    </tr>\n",
       "    <tr>\n",
       "      <th>ChIP4</th>\n",
       "      <td>ChIP4</td>\n",
       "      <td>example_datasets/JC_4_7_1.fq.gz</td>\n",
       "      <td>example_datasets/JC_4_7_2.fq.gz</td>\n",
       "      <td>treatment</td>\n",
       "    </tr>\n",
       "    <tr>\n",
       "      <th>ChIP5</th>\n",
       "      <td>ChIP5</td>\n",
       "      <td>example_datasets/JC_inp2_1.fq.gz</td>\n",
       "      <td>example_datasets/JC_inp2_1.fq.gz</td>\n",
       "      <td>control</td>\n",
       "    </tr>\n",
       "  </tbody>\n",
       "</table>\n",
       "</div>"
      ],
      "text/plain": [
       "       sample                               fq1  \\\n",
       "sample                                            \n",
       "ChIP1   ChIP1     example_datasets/JC_2_1.fq.gz   \n",
       "ChIP2   ChIP2   example_datasets/JC_4_1_1.fq.gz   \n",
       "ChIP3   ChIP3    example_datasets/JC_12_1.fq.gz   \n",
       "ChIP4   ChIP4   example_datasets/JC_4_7_1.fq.gz   \n",
       "ChIP5   ChIP5  example_datasets/JC_inp2_1.fq.gz   \n",
       "\n",
       "                                     fq2  condition  \n",
       "sample                                               \n",
       "ChIP1      example_datasets/JC_2_2.fq.gz  treatment  \n",
       "ChIP2    example_datasets/JC_4_1_2.fq.gz  treatment  \n",
       "ChIP3     example_datasets/JC_12_2.fq.gz  treatment  \n",
       "ChIP4    example_datasets/JC_4_7_2.fq.gz  treatment  \n",
       "ChIP5   example_datasets/JC_inp2_1.fq.gz    control  "
      ]
     },
     "execution_count": 10,
     "metadata": {},
     "output_type": "execute_result"
    }
   ],
   "source": [
    "unit"
   ]
  },
  {
   "cell_type": "code",
   "execution_count": null,
   "metadata": {},
   "outputs": [],
   "source": []
  }
 ],
 "metadata": {
  "kernelspec": {
   "display_name": "Python 3",
   "language": "python",
   "name": "python3"
  },
  "language_info": {
   "codemirror_mode": {
    "name": "ipython",
    "version": 3
   },
   "file_extension": ".py",
   "mimetype": "text/x-python",
   "name": "python",
   "nbconvert_exporter": "python",
   "pygments_lexer": "ipython3",
   "version": "3.7.6"
  }
 },
 "nbformat": 4,
 "nbformat_minor": 4
}
